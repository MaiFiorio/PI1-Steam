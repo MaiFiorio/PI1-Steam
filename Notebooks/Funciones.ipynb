{
 "cells": [
  {
   "cell_type": "markdown",
   "metadata": {},
   "source": [
    "### LIBRERIAS NECESARIAS PARA LAS FUNCIONES"
   ]
  },
  {
   "cell_type": "code",
   "execution_count": 24,
   "metadata": {},
   "outputs": [],
   "source": [
    "import pandas as pd\n",
    "import numpy as np\n",
    "import ast\n",
    "from sklearn.metrics.pairwise import cosine_similarity\n",
    "from sklearn.feature_extraction.text import TfidfVectorizer\n",
    "import gc"
   ]
  },
  {
   "cell_type": "markdown",
   "metadata": {},
   "source": [
    "### ARCHIVOS NECESARIOS PARA LAS FUNCIONES"
   ]
  },
  {
   "cell_type": "code",
   "execution_count": 13,
   "metadata": {},
   "outputs": [],
   "source": [
    "# ARCHIVOS NECESARIOS COMPLETOS. De todas formas en cada función se levantan solo las columnas necesarias para el desarrollo de cada una particularmente\n",
    "\n",
    "# df_steam = pd.read_csv(r\"M:\\Documentos\\Mai\\Henry\\Cursado\\P.I. 1\\Bases de datos\\Archivos Post ETL\\steam_post_etl.csv\", sep=';', on_bad_lines='skip')\n",
    "# df_items = pd.read_csv(r\"M:\\Documentos\\Mai\\Henry\\Cursado\\P.I. 1\\Bases de datos\\Archivos Post ETL\\items_post_etl.csv\", sep=';', on_bad_lines='skip')\n",
    "# df_reviews = pd.read_csv(r\"M:\\Documentos\\Mai\\Henry\\Cursado\\P.I. 1\\Bases de datos\\Archivos Post ETL\\reviews_post_etl.csv\", sep=';', on_bad_lines='skip')"
   ]
  },
  {
   "cell_type": "markdown",
   "metadata": {},
   "source": [
    "###  FUNCIONES"
   ]
  },
  {
   "cell_type": "markdown",
   "metadata": {},
   "source": [
    "##### N° 1 def developer( desarrollador : str ): Cantidad de items y porcentaje de contenido Free por año según empresa desarrolladora. "
   ]
  },
  {
   "cell_type": "code",
   "execution_count": 21,
   "metadata": {},
   "outputs": [
    {
     "data": {
      "text/plain": [
       "[{'year': 2014,\n",
       "  'cantidad_items': 74,\n",
       "  'cantidad_items_gratuitos_por_año': 0,\n",
       "  '% Contenido Free': 0.0},\n",
       " {'year': 2015,\n",
       "  'cantidad_items': 80,\n",
       "  'cantidad_items_gratuitos_por_año': 0,\n",
       "  '% Contenido Free': 0.0},\n",
       " {'year': 2016,\n",
       "  'cantidad_items': 231,\n",
       "  'cantidad_items_gratuitos_por_año': 0,\n",
       "  '% Contenido Free': 0.0},\n",
       " {'year': 2017,\n",
       "  'cantidad_items': 428,\n",
       "  'cantidad_items_gratuitos_por_año': 4,\n",
       "  '% Contenido Free': 0.93}]"
      ]
     },
     "execution_count": 21,
     "metadata": {},
     "output_type": "execute_result"
    }
   ],
   "source": [
    "def developer( desarrollador : str ):\n",
    "    \"\"\"Cantidad de items y porcentaje de contenido Free \n",
    "        por año según empresa desarrolladora\"\"\"\n",
    "     \n",
    "    df_steam = pd.read_csv(r\"M:\\Documentos\\Mai\\Henry\\Cursado\\P.I. 1\\Bases de datos\\Archivos Post ETL\\steam_post_etl.csv\", sep=';', on_bad_lines='skip', usecols=['developer', 'year', 'price']) \n",
    "        \n",
    "    #Filtrar juegos por desarrollador\n",
    "    df_desarrollador = df_steam[df_steam['developer'] == desarrollador].copy()\n",
    "    \n",
    "    # Contar la cantidad de items por año\n",
    "    cantidad_items_por_year = df_desarrollador.groupby('year').size().reset_index(name=\"cantidad_items\")\n",
    "    \n",
    "    # Contar la cantidad de items GRATUITOS por año\n",
    "    cantidad_items_gratuitos_por_year = df_desarrollador[df_desarrollador[\"price\"] == 0].groupby('year').size().reset_index(name='cantidad_items_gratuitos_por_año').astype('Int64')\n",
    "\n",
    "    # Combinar filtros para dar resultado y creación de columna que calcule el porcentaje sobre el total\n",
    "    resultado = pd.merge(cantidad_items_por_year, cantidad_items_gratuitos_por_year, on='year', how='left').fillna(0)\n",
    "    resultado['% Contenido Free'] = ((resultado['cantidad_items_gratuitos_por_año'] / resultado['cantidad_items']) * 100).round(2)\n",
    "    \n",
    "    # Convertir el DataFrame a un diccionario\n",
    "    resultado_dict = resultado.to_dict(orient='records')\n",
    "    \n",
    "    return resultado_dict\n",
    "\n",
    "developer(\"SmiteWorks USA, LLC\") #probando función\n"
   ]
  },
  {
   "cell_type": "markdown",
   "metadata": {},
   "source": [
    "#### N° 2 def userdata( User_id : str ): Debe devolver cantidad de dinero gastado por el usuario, el porcentaje de recomendación en base a reviews.recommend y cantidad de items. \n"
   ]
  },
  {
   "cell_type": "code",
   "execution_count": 7,
   "metadata": {},
   "outputs": [
    {
     "data": {
      "text/plain": [
       "{'Id Usuario': 'STEAM0082987612',\n",
       " 'Dinero gastado': '1209.26 USD',\n",
       " '% de recomendación': '85.71%',\n",
       " 'Cantidad de items': 106}"
      ]
     },
     "execution_count": 7,
     "metadata": {},
     "output_type": "execute_result"
    }
   ],
   "source": [
    "# Ejemplo de retorno: {\"Usuario X\" : us213ndjss09sdf, \"Dinero gastado\": 200 USD, \"% de recomendación\": 20%, \"cantidad de items\": 5}\n",
    "\n",
    "def userdata( User_id : str ):\n",
    "    \"\"\"Devuelve cantidad de dinero gastado por el usuario, el porcentaje de \n",
    "    recomendación en base a reviews.recommend y cantidad de items\"\"\"\n",
    "\n",
    "    df_items = pd.read_csv(r\"M:\\Documentos\\Mai\\Henry\\Cursado\\P.I. 1\\Bases de datos\\Archivos Post ETL\\items_post_etl.csv\", sep=';', on_bad_lines='skip',usecols=['user_id', 'item_id', 'price'])\n",
    "    df_reviews = pd.read_csv(r\"M:\\Documentos\\Mai\\Henry\\Cursado\\P.I. 1\\Bases de datos\\Archivos Post ETL\\reviews_post_etl.csv\", sep=';', on_bad_lines='skip',usecols=['user_id','recommend'])\n",
    "    \n",
    "    #Filtrar por user_id\n",
    "    df_user = df_items[df_items['user_id']== User_id]\n",
    "\n",
    "    #Calcular el gasto total por  usuario\n",
    "    gasto = str(round(df_user['price'].sum(),2))+' USD'\n",
    "\n",
    "    #Calcular la cantidad de items comprados\n",
    "    cantidad_items = df_user['item_id'].count()\n",
    "    \n",
    "    # Filtrar reviews por ususario \n",
    "    df_reviews_usuario = df_reviews[df_reviews['user_id']== User_id]\n",
    "    \n",
    "    #Calcular la cantidad de juegos recomendados (True)\n",
    "    cantidad_recomendaciones = (df_reviews_usuario['recommend'] == True).sum()\n",
    "\n",
    "    # Calcular la cantidad de juegos que tienen datos en la columna review\n",
    "    cantidad_juegos_con_review = df_reviews_usuario['recommend'].notna().sum()\n",
    "\n",
    "    #Porcentaje de recomendación\n",
    "    if cantidad_items > 0:\n",
    "        porcentaje_recomendaciones = str(round(cantidad_recomendaciones * 100 / cantidad_juegos_con_review, 2)) + '%'\n",
    "    else:\n",
    "        porcentaje_recomendaciones = '0%'\n",
    "\n",
    "    #Muestra los resultados en un diccionario y con el formato adecuado\n",
    "    return {\"Id Usuario\" : str(User_id), \n",
    "           \"Dinero gastado\": str(gasto), \n",
    "           \"% de recomendación\": str(porcentaje_recomendaciones),\n",
    "           \"Cantidad de items\": int(cantidad_items)  \n",
    "           }\n",
    "userdata(\"STEAM0082987612\")"
   ]
  },
  {
   "cell_type": "markdown",
   "metadata": {},
   "source": [
    "#### N° 3 def UserForGenre( genero : str ): Debe devolver el usuario que acumula más horas jugadas para el género dado y una lista de la acumulación de horas jugadas por año de lanzamiento.\n"
   ]
  },
  {
   "cell_type": "code",
   "execution_count": null,
   "metadata": {},
   "outputs": [],
   "source": [
    "# Ejemplo de retorno: {\"Usuario con más horas jugadas para Género X\" : us213ndjss09sdf, \"Horas jugadas\":[{Año: 2013, Horas: 203}, {Año: 2012, Horas: 100}, {Año: 2011, Horas: 23}]}\n",
    "\n",
    "def UserForGenre( genero : str ): \n",
    "    \"\"\"Debe devolver el usuario que acumula más horas jugadas para el género dado y una lista \n",
    "    de la acumulación de horas jugadas por año de lanzamiento.\"\"\"\n",
    "    \n",
    "    df_items = pd.read_parquet(\"./Bases de datos/Archivos Post ETL/items_post_etl.parquet\", columns=['user_id', 'item_id', 'playtime_forever']) \n",
    "    df_steam = pd.read_csv(\"./Bases de datos/Archivos Post ETL/steam_post_etl.csv\", sep=';', on_bad_lines='skip', usecols=['item_id', 'year',\"genres\"])\n",
    "  \n",
    "    genero = genero.lower()\n",
    "    genero = genero.title()\n",
    "\n",
    "    # Filtrar el DataFrame df_steam para obtener los juegos del género especificado\n",
    "    df_steam_filtrado  = df_steam[df_steam['genres'].apply(lambda x: genero in x)]\n",
    "   \n",
    "    # Unir df_steam_filtrado con df_items basado en 'item_id' para obtener los usuarios y horas jugadas para los juegos del género \n",
    "    df_combinado = pd.merge(df_items[['user_id', 'item_id', 'playtime_forever']], df_steam[['item_id', 'year']], on='item_id', how='inner')\n",
    "    # df_combinado = pd.merge(df_steam_filtrado[['item_id', 'year',\"genres\"]], df_items[['user_id', 'item_id', 'playtime_forever']], on='item_id', how='inner')\n",
    "\n",
    "    # Agrupar por 'user_id' y sumar las horas jugadas para cada usuario\n",
    "    horas_por_usuario = df_combinado.groupby('user_id')['playtime_forever'].sum().reset_index()\n",
    "\n",
    "    # Obtener el usuario con más horas jugadas\n",
    "    usuario_mas_horas = horas_por_usuario.loc[horas_por_usuario['playtime_forever'].idxmax(), 'user_id']\n",
    "\n",
    "    # Agrupar por año y sumar las horas jugadas para cada año\n",
    "    horas_por_año_usuario = df_combinado[df_combinado['user_id'] == usuario_mas_horas].groupby('year')['playtime_forever'].sum().reset_index()\n",
    "\n",
    "    # Convertir a la lista deseada de acumulación de horas jugadas por año\n",
    "    dicc_horas_por_year = [{'Año': row['year'], 'Horas': row['playtime_forever']} for index, row in horas_por_año_usuario.iterrows()]\n",
    "\n",
    "    respuesta = {\n",
    "    f\"Usuario con más horas jugadas para Género {genero}\": usuario_mas_horas,\n",
    "    \"Horas jugadas\": dicc_horas_por_year }\n",
    "\n",
    "    return respuesta\n",
    "\n",
    "UserForGenre(\"Sports\") "
   ]
  },
  {
   "cell_type": "markdown",
   "metadata": {},
   "source": [
    "#### N° 4 def best_developer_year( año : int ): Devuelve el top 3 de desarrolladores con juegos MÁS recomendados por usuarios para el año dado. (reviews.recommend = True y comentarios positivos)\n"
   ]
  },
  {
   "cell_type": "code",
   "execution_count": 11,
   "metadata": {},
   "outputs": [
    {
     "data": {
      "text/plain": [
       "{'Puesto 1': 'Smartly Dressed Games',\n",
       " 'Puesto 2': 'Freejam',\n",
       " 'Puesto 3': 'Studio Wildcard,Instinct Games,Efecto Studios,Virtual Basement LLC'}"
      ]
     },
     "execution_count": 11,
     "metadata": {},
     "output_type": "execute_result"
    }
   ],
   "source": [
    "# Ejemplo de retorno: [{\"Puesto 1\" : X}, {\"Puesto 2\" : Y},{\"Puesto 3\" : Z}\n",
    "def best_developer_year( year : int ):\n",
    "    \"\"\"Devuelve el top 3 de desarrolladores con juegos \n",
    "    MÁS recomendados por usuarios para el año dado. \"\"\"\n",
    "    \n",
    "    df_steam = pd.read_csv(r\"M:\\Documentos\\Mai\\Henry\\Cursado\\P.I. 1\\Bases de datos\\Archivos Post ETL\\steam_post_etl.csv\", sep=';', on_bad_lines='skip', usecols=['item_id', 'year',\"developer\"])\n",
    "    df_reviews = pd.read_csv(r\"M:\\Documentos\\Mai\\Henry\\Cursado\\P.I. 1\\Bases de datos\\Archivos Post ETL\\reviews_post_etl.csv\", sep=';', on_bad_lines='skip',usecols=['user_id','item_id','recommend'])\n",
    "    \n",
    "    # Filtrar df_steam por el año dado\n",
    "    juegos_por_año = df_steam[df_steam['year'] == year]\n",
    "\n",
    "    # Unir df_steam con df_reviews por item_id\n",
    "    merged_df = pd.merge(juegos_por_año, df_reviews, on='item_id', how='left')\n",
    "\n",
    "    # Filtrar solo las recomendaciones positivas\n",
    "    recomendaciones_positivas = merged_df[merged_df['recommend'] == True]\n",
    "\n",
    "    # Contar recomendaciones por desarrollador\n",
    "    conteo_recomendaciones = recomendaciones_positivas.groupby('developer').size().reset_index(name='cantidad_recomendaciones')\n",
    "\n",
    "    # Ordenar df para obtener los primeros 3 desarrolladores segun la cantidad de recomendaciones\n",
    "    top_desarrolladores = conteo_recomendaciones.sort_values(by='cantidad_recomendaciones', ascending=False).head(3)\n",
    "\n",
    "    # Guardo los tres primeros puestos\n",
    "    primer_puesto = top_desarrolladores.iloc[0]['developer']\n",
    "    segundo_puesto = top_desarrolladores.iloc[1]['developer']\n",
    "    tercer_puesto = top_desarrolladores.iloc[2]['developer']\n",
    "\n",
    "    # Formatear el resultado\n",
    "    resultado = {\n",
    "        \"Puesto 1\": primer_puesto,\n",
    "        \"Puesto 2\": segundo_puesto,\n",
    "        \"Puesto 3\": tercer_puesto\n",
    "    }\n",
    "    return resultado\n",
    "\n",
    "best_developer_year(2017)"
   ]
  },
  {
   "cell_type": "markdown",
   "metadata": {},
   "source": [
    "#### N° 5 def developer_reviews_analysis( desarrolladora : str ): Según el desarrollador, se devuelve un diccionario con el nombre del desarrollador como llave y una lista con la cantidad total de registros de reseñas de usuarios que se encuentren categorizados con un análisis de sentimiento como valor positivo o negativo.\n"
   ]
  },
  {
   "cell_type": "code",
   "execution_count": 12,
   "metadata": {},
   "outputs": [
    {
     "data": {
      "text/plain": [
       "{'Team Psykskallar': {'Positivas': 33, 'Negativas': 34}}"
      ]
     },
     "execution_count": 12,
     "metadata": {},
     "output_type": "execute_result"
    }
   ],
   "source": [
    "# Ejemplo de retorno: {'Valve' : [Negative = 182, Positive = 278]}\n",
    "def developer_reviews_analysis( desarrolladora : str ): \n",
    "    \"\"\"Según el desarrollador, se devuelve un diccionario con el nombre del desarrollador como llave y \n",
    "    una lista con la cantidad total de registros de reseñas de usuarios que se encuentren categorizados \n",
    "    con un análisis de sentimiento como valor positivo o negativo.\"\"\"\n",
    "    \n",
    "    df_steam = pd.read_csv(r\"M:\\Documentos\\Mai\\Henry\\Cursado\\P.I. 1\\Bases de datos\\Archivos Post ETL\\steam_post_etl.csv\", sep=';', on_bad_lines='skip', usecols=['item_id',\"developer\"])\n",
    "    df_reviews = pd.read_csv(r\"M:\\Documentos\\Mai\\Henry\\Cursado\\P.I. 1\\Bases de datos\\Archivos Post ETL\\reviews_post_etl.csv\", sep=';', on_bad_lines='skip',usecols=['user_id','item_id','sentiment_analysis'])\n",
    "    \n",
    "    \n",
    "    # Filtrar df_steam por la desarrolladora especificada\n",
    "    juegos_desarrolladora = df_steam[df_steam['developer'] == desarrolladora]\n",
    "    \n",
    "    # Unir df_steam con df_reviews por item_id\n",
    "    merged_df = pd.merge(juegos_desarrolladora, df_reviews, on='item_id', how='left')\n",
    "\n",
    "    # Contar la cantidad total de reseñas positivas y negativas\n",
    "    conteo_reseñas = merged_df['sentiment_analysis'].value_counts().to_dict()\n",
    "\n",
    "        # Crear el diccionario de resultados\n",
    "    reseñas = {\n",
    "        desarrolladora: [\n",
    "            conteo_reseñas.get(2.0, 0),   # Positive count\n",
    "            conteo_reseñas.get(0.0, 0)      # Negative count\n",
    "        ]\n",
    "    }\n",
    "\n",
    "    # Renombrar claves en la lista a 'Positivas' y 'Negativas'\n",
    "    reseñas[desarrolladora] = {\n",
    "        \"Positivas\": reseñas[desarrolladora][0],\n",
    "        \"Negativas\": reseñas[desarrolladora][1]\n",
    "    }\n",
    "\n",
    "    return reseñas\n",
    "\n",
    "developer_reviews_analysis(\"Team Psykskallar\")"
   ]
  },
  {
   "cell_type": "markdown",
   "metadata": {},
   "source": [
    "###  MODELO ML"
   ]
  },
  {
   "cell_type": "markdown",
   "metadata": {},
   "source": [
    "Modelo de aprendizaje automático:\n",
    "\n",
    "Una vez que toda la data es consumible por la API, está lista para consumir por los departamentos de Analytics y Machine Learning, y nuestro EDA nos permite entender bien los datos a los que tenemos acceso, es hora de entrenar nuestro modelo de machine learning para armar un sistema de recomendación. Para ello, te ofrecen dos propuestas de trabajo: En la primera, el modelo deberá tener una relación ítem-ítem, esto es se toma un item, en base a que tan similar esa ese ítem al resto, se recomiendan similares. Aquí el input es un juego y el output es una lista de juegos recomendados, para ello recomendamos aplicar la similitud del coseno. La otra propuesta para el sistema de recomendación debe aplicar el filtro user-item, esto es tomar un usuario, se encuentran usuarios similares y se recomiendan ítems que a esos usuarios similares les gustaron. En este caso el input es un usuario y el output es una lista de juegos que se le recomienda a ese usuario, en general se explican como “A usuarios que son similares a tí también les gustó…”. Deben crear al menos uno de los dos sistemas de recomendación (Si se atreven a tomar el desafío, para mostrar su capacidad al equipo, ¡pueden hacer ambos!). Tu líder pide que el modelo derive obligatoriamente en un GET/POST en la API símil al siguiente formato:\n",
    "\n",
    "Creación de un sistema de recomendación item-item con similitud del coseno:\n",
    "\n",
    "def recomendacion_juego( id de producto ): Ingresando el id de producto, deberíamos recibir una lista con 5 juegos recomendados similares al ingresado."
   ]
  },
  {
   "cell_type": "code",
   "execution_count": 15,
   "metadata": {},
   "outputs": [],
   "source": [
    "import pandas as pd\n",
    "from sklearn.feature_extraction.text import TfidfVectorizer\n",
    "from sklearn.metrics.pairwise import cosine_similarity\n",
    "from scipy.sparse import hstack, csr_matrix\n",
    "\n",
    "def recomendar_juegos_genero(item_id):\n",
    "    \"\"\" Se consulta  un item_id, y se recomiendan 5 juegos basados \n",
    "        en su similitud respecto a sus generos respectivos\"\"\"\n",
    "    try:\n",
    "        # Cargar los dataframes\n",
    "        df_steam = pd.read_csv(\".\\Bases de datos\\Archivos Post ETL\\steam_post_etl.csv\", sep=';', usecols=['item_id', 'title', 'genres']) \n",
    "        # df_reviews = pd.read_csv(r\"M:\\Documentos\\Mai\\Henry\\Cursado\\P.I. 1\\Bases de datos\\Archivos Post ETL\\reviews_post_etl.csv\", sep=';', usecols=['item_id', 'sentiment_analysis'])\n",
    "       \n",
    "        # Verificar si el item_id existe en el dataframe\n",
    "        if item_id not in df_steam['item_id'].values:\n",
    "            raise ValueError(f\"El item_id {item_id} no está en la base de datos.\")\n",
    "\n",
    "        # Filtrar el dataframe de Steam para obtener solo los juegos relevantes\n",
    "        df_steam = df_steam.dropna(subset=['genres'])  # Eliminar filas con NaN en géneros\n",
    "\n",
    "        # Obtener el género del juego buscado\n",
    "        game_genres_str = df_steam[df_steam['item_id'] == item_id]['genres'].values[0]\n",
    "        game_genres = ast.literal_eval(game_genres_str)\n",
    "        \n",
    "        # verificar si el juego no tiene géneros válidos\n",
    "        if not game_genres_str or game_genres_str == '[]':\n",
    "            raise ValueError(f\"El juego con item_id {item_id} no tiene géneros asignados, por lo que no podemos darte una recomendación para géneros similares.\")\n",
    "\n",
    "\n",
    "        # Filtro los juegos que tengan al menos alguno de esos generos y restablecer indices\n",
    "        filtered_df_steam = df_steam[df_steam['genres'].apply(lambda x: any(genre in eval(x) for genre in game_genres))]\n",
    "        filtered_df_steam = filtered_df_steam.reset_index(drop=True)\n",
    "\n",
    "        # Si no hay suficientes juegos similares en el filtro\n",
    "        if filtered_df_steam.shape[0] <= 1:\n",
    "            raise ValueError(f\"No se encontraron suficientes juegos similares al juego con item_id {item_id}.\")\n",
    "\n",
    "        # Vectorizar la columna 'genres':\n",
    "        # Obj: Convertir el texto de la columna genres en una representación numérica que pueda ser utilizada para calcular similitudes.\n",
    "        tfidf = TfidfVectorizer()\n",
    "        tfidf_matrix = tfidf.fit_transform(filtered_df_steam['genres'])\n",
    "        \n",
    "         # Obtener el índice del juego buscado\n",
    "        idx = filtered_df_steam.index[filtered_df_steam['item_id'] == item_id].tolist()[0]\n",
    "\n",
    "        # Calcular la similitud coseno entre todos los juegos\n",
    "        # Obj: Calcular la similitud entre todos los juegos basándose en sus géneros.\n",
    "        sim_scores = cosine_similarity(tfidf_matrix[idx], tfidf_matrix).flatten()\n",
    "   \n",
    "\n",
    "\n",
    "        #Calcular las puntuaciones de similitud entre el juego buscado y todos los demás juegos    \n",
    "        sim_scores_idx = list(enumerate(sim_scores))\n",
    "\n",
    "        # Ordenar las puntuaciones de similitud en orden descendente (juegos más similares primero)\n",
    "        sim_scores_idx = sorted(sim_scores_idx, key=lambda x: x[1], reverse=True)\n",
    "\n",
    "        # Obtener los índices de los juegos más similares (excluyendo el propio juego)\n",
    "        # Esto se hace porque la primera entrada (sim_scores[0]) es el propio juego, que tendrá una similitud de 1  y no lo queremos en las recomendaciones.\n",
    "        top_indices = [i[0] for i in sim_scores_idx[1:6]]\n",
    "\n",
    "        # Retornar los títulos de los juegos recomendados\n",
    "        return filtered_df_steam.iloc[top_indices][['title', 'genres']]\n",
    "    except ValueError as e:\n",
    "        return str(e)  # Retornar el mensaje de error si ocurre\n",
    "    except Exception as e:\n",
    "        return f\"Ha ocurrido un error inesperado: {str(\"Lo solucionaremos en breve\")}\"\n"
   ]
  },
  {
   "cell_type": "code",
   "execution_count": 16,
   "metadata": {},
   "outputs": [
    {
     "data": {
      "text/html": [
       "<div>\n",
       "<style scoped>\n",
       "    .dataframe tbody tr th:only-of-type {\n",
       "        vertical-align: middle;\n",
       "    }\n",
       "\n",
       "    .dataframe tbody tr th {\n",
       "        vertical-align: top;\n",
       "    }\n",
       "\n",
       "    .dataframe thead th {\n",
       "        text-align: right;\n",
       "    }\n",
       "</style>\n",
       "<table border=\"1\" class=\"dataframe\">\n",
       "  <thead>\n",
       "    <tr style=\"text-align: right;\">\n",
       "      <th></th>\n",
       "      <th>title</th>\n",
       "      <th>genres</th>\n",
       "    </tr>\n",
       "  </thead>\n",
       "  <tbody>\n",
       "    <tr>\n",
       "      <th>26</th>\n",
       "      <td>Bone: The Great Cow Race</td>\n",
       "      <td>['Adventure']</td>\n",
       "    </tr>\n",
       "    <tr>\n",
       "      <th>27</th>\n",
       "      <td>Dracula Origin</td>\n",
       "      <td>['Adventure']</td>\n",
       "    </tr>\n",
       "    <tr>\n",
       "      <th>30</th>\n",
       "      <td>Oddworld: Abe's Exoddus®</td>\n",
       "      <td>['Adventure']</td>\n",
       "    </tr>\n",
       "    <tr>\n",
       "      <th>31</th>\n",
       "      <td>Oddworld: Abe's Oddysee®</td>\n",
       "      <td>['Adventure']</td>\n",
       "    </tr>\n",
       "    <tr>\n",
       "      <th>40</th>\n",
       "      <td>Ankh 2: Heart of Osiris</td>\n",
       "      <td>['Adventure']</td>\n",
       "    </tr>\n",
       "  </tbody>\n",
       "</table>\n",
       "</div>"
      ],
      "text/plain": [
       "                       title         genres\n",
       "26  Bone: The Great Cow Race  ['Adventure']\n",
       "27            Dracula Origin  ['Adventure']\n",
       "30  Oddworld: Abe's Exoddus®  ['Adventure']\n",
       "31  Oddworld: Abe's Oddysee®  ['Adventure']\n",
       "40   Ankh 2: Heart of Osiris  ['Adventure']"
      ]
     },
     "execution_count": 16,
     "metadata": {},
     "output_type": "execute_result"
    }
   ],
   "source": [
    "recomendar_juegos_genero(15710)"
   ]
  },
  {
   "cell_type": "code",
   "execution_count": 33,
   "metadata": {},
   "outputs": [
    {
     "name": "stderr",
     "output_type": "stream",
     "text": [
      "<>:7: SyntaxWarning: invalid escape sequence '\\D'\n",
      "<>:8: SyntaxWarning: invalid escape sequence '\\D'\n",
      "<>:7: SyntaxWarning: invalid escape sequence '\\D'\n",
      "<>:8: SyntaxWarning: invalid escape sequence '\\D'\n",
      "C:\\Users\\Flor Pedraza\\AppData\\Local\\Temp\\ipykernel_16520\\1661750132.py:7: SyntaxWarning: invalid escape sequence '\\D'\n",
      "  df_items = pd.read_parquet(\"M:\\Documentos\\Mai\\Henry\\Cursado\\P.I. 1\\Bases de datos\\Archivos Post ETL\\items_post_etl.parquet\", columns=['user_id', 'item_id', 'playtime_forever'])\n",
      "C:\\Users\\Flor Pedraza\\AppData\\Local\\Temp\\ipykernel_16520\\1661750132.py:8: SyntaxWarning: invalid escape sequence '\\D'\n",
      "  df_steam = pd.read_csv(\"M:\\Documentos\\Mai\\Henry\\Cursado\\P.I. 1\\Bases de datos\\Archivos Post ETL\\steam_post_etl.csv\", sep=';', on_bad_lines='skip', usecols=['item_id', 'year',\"genres\"])\n"
     ]
    }
   ],
   "source": [
    "# Ejemplo de retorno: {\"Usuario con más horas jugadas para Género X\" : us213ndjss09sdf, \"Horas jugadas\":[{Año: 2013, Horas: 203}, {Año: 2012, Horas: 100}, {Año: 2011, Horas: 23}]}\n",
    "\n",
    "def UserForGenre( genero : str ): \n",
    "    \"\"\"Debe devolver el usuario que acumula más horas jugadas para el género dado y una lista \n",
    "    de la acumulación de horas jugadas por año de lanzamiento.\"\"\"\n",
    "    \n",
    "    df_items = pd.read_parquet(\"M:\\Documentos\\Mai\\Henry\\Cursado\\P.I. 1\\Bases de datos\\Archivos Post ETL\\items_post_etl.parquet\", columns=['user_id', 'item_id', 'playtime_forever']) \n",
    "    df_steam = pd.read_csv(\"M:\\Documentos\\Mai\\Henry\\Cursado\\P.I. 1\\Bases de datos\\Archivos Post ETL\\steam_post_etl.csv\", sep=';', on_bad_lines='skip', usecols=['item_id', 'year',\"genres\"])\n",
    "  \n",
    "    genero = genero.lower()\n",
    "    genero = genero.title()\n",
    "\n",
    "    # Filtrar el DataFrame df_steam para obtener los juegos del género especificado\n",
    "    df_steam_filtrado  = df_steam[df_steam['genres'].apply(lambda x: genero in x)]\n",
    "    del df_steam\n",
    "    # Unir df_steam_filtrado con df_items basado en 'item_id' para obtener los usuarios y horas jugadas para los juegos del género \n",
    "    df_items.set_index('item_id', inplace=True)\n",
    "    df_steam_filtrado.set_index('item_id', inplace=True)\n",
    "    df_combinado = df_items.join(df_steam_filtrado[['year']], on='item_id', how='inner')\n",
    "    # df_combinado = pd.merge(df_items[['user_id', 'playtime_forever']], df_steam_filtrado[['year']], left_index=True, right_index=True, how='inner')\n",
    "    # df_combinado = pd.merge(df_steam_filtrado[['item_id', 'year',\"genres\"]], df_items[['user_id', 'item_id', 'playtime_forever']], on='item_id', how='inner')\n",
    "    del df_steam_filtrado,  df_items\n",
    "\n",
    "    # Agrupar por 'user_id' y sumar las horas jugadas para cada usuario\n",
    "    horas_por_usuario = df_combinado.groupby('user_id')['playtime_forever'].sum().reset_index()\n",
    "\n",
    "    # Obtener el usuario con más horas jugadas\n",
    "    usuario_mas_horas = horas_por_usuario.loc[horas_por_usuario['playtime_forever'].idxmax(), 'user_id']\n",
    "\n",
    "    # Agrupar por año y sumar las horas jugadas para cada año\n",
    "    horas_por_año_usuario = df_combinado[df_combinado['user_id'] == usuario_mas_horas].groupby('year')['playtime_forever'].sum().reset_index()\n",
    "\n",
    "    # Convertir a la lista deseada de acumulación de horas jugadas por año\n",
    "    dicc_horas_por_year = [{'Año': row['year'], 'Horas': row['playtime_forever']} for index, row in horas_por_año_usuario.iterrows()]\n",
    "\n",
    "    respuesta = {\n",
    "    f\"Usuario con más horas jugadas para Género {genero}\": usuario_mas_horas,\n",
    "    \"Horas jugadas\": dicc_horas_por_year }\n",
    "\n",
    "    return respuesta\n",
    "\n"
   ]
  },
  {
   "cell_type": "code",
   "execution_count": 35,
   "metadata": {},
   "outputs": [
    {
     "data": {
      "text/plain": [
       "{'Usuario con más horas jugadas para Género Casual': 'REBAS_AS_F-T',\n",
       " 'Horas jugadas': [{'Año': 0.0, 'Horas': 0.0},\n",
       "  {'Año': 1999.0, 'Horas': 0.0},\n",
       "  {'Año': 2002.0, 'Horas': 0.0},\n",
       "  {'Año': 2004.0, 'Horas': 6985.0},\n",
       "  {'Año': 2007.0, 'Horas': 0.0},\n",
       "  {'Año': 2008.0, 'Horas': 1241.0},\n",
       "  {'Año': 2009.0, 'Horas': 2870.0},\n",
       "  {'Año': 2010.0, 'Horas': 12066.0},\n",
       "  {'Año': 2011.0, 'Horas': 81201.0},\n",
       "  {'Año': 2012.0, 'Horas': 29722.0},\n",
       "  {'Año': 2013.0, 'Horas': 107965.0},\n",
       "  {'Año': 2014.0, 'Horas': 122364.0},\n",
       "  {'Año': 2015.0, 'Horas': 362201.0},\n",
       "  {'Año': 2016.0, 'Horas': 498260.0},\n",
       "  {'Año': 2017.0, 'Horas': 58.0}]}"
      ]
     },
     "execution_count": 35,
     "metadata": {},
     "output_type": "execute_result"
    }
   ],
   "source": [
    "UserForGenre(\"Casual\") "
   ]
  }
 ],
 "metadata": {
  "kernelspec": {
   "display_name": "Python 3",
   "language": "python",
   "name": "python3"
  },
  "language_info": {
   "codemirror_mode": {
    "name": "ipython",
    "version": 3
   },
   "file_extension": ".py",
   "mimetype": "text/x-python",
   "name": "python",
   "nbconvert_exporter": "python",
   "pygments_lexer": "ipython3",
   "version": "3.12.4"
  }
 },
 "nbformat": 4,
 "nbformat_minor": 2
}
