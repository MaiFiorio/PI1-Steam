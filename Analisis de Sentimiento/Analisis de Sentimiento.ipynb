{
 "cells": [
  {
   "cell_type": "markdown",
   "metadata": {},
   "source": [
    "## ANÁLISIS DE SENTIMIENTO SOBRE REVIEWS DE JUEGOS"
   ]
  },
  {
   "cell_type": "markdown",
   "metadata": {},
   "source": [
    "### PROCEDIMIENTO GENERAL DEL ANÁLISIS\n"
   ]
  },
  {
   "cell_type": "markdown",
   "metadata": {},
   "source": [
    "En el dataset user_reviews se incluyen reseñas de juegos hechos por distintos usuarios. \n",
    "\n",
    "Se procederá a crear la columna 'sentiment_analysis' aplicando análisis de sentimiento con NLP \n",
    "\n",
    "Dicha columna tendra la siguiente escala:\n",
    "* '0' si es malo, \n",
    "* '1' si es neutral \n",
    "* '2' si es positivo.\n",
    "Nota: De no ser posible este análisis por estar ausente la reseña escrita, debe tomar el valor de 1."
   ]
  },
  {
   "cell_type": "markdown",
   "metadata": {},
   "source": [
    "### ANALISIS DE LIBRERÍAS PARA EJECUTAR EL N.L.P"
   ]
  },
  {
   "cell_type": "markdown",
   "metadata": {},
   "source": [
    "Para el análisis de sentimientos en reseñas de videojuegos, vamos a comparar dos librerías:\n",
    "-TextBlob  \n",
    "-VADER (SentimentIntensityAnalyzer) \n",
    "Vamos a realizar una comparativa entre las dos y decidir cuál es mejor para analizar reseñas de videojuegos."
   ]
  },
  {
   "cell_type": "markdown",
   "metadata": {},
   "source": [
    "#### 1. TextBlob:\n"
   ]
  },
  {
   "cell_type": "markdown",
   "metadata": {},
   "source": [
    "Es una librería sencilla y fácil de usar que ofrece varias funcionalidades de procesamiento de lenguaje natural, incluido el análisis de sentimientos.\n",
    "\n",
    "*Cómo funciona: \n",
    "Usa un enfoque basado en reglas y diccionarios de palabras para clasificar el texto como positivo, negativo o neutral.\n",
    "Salida: Proporciona un puntaje de polaridad (entre -1 y 1) y un puntaje de subjetividad (entre 0 y 1). La polaridad indica si el sentimiento es negativo o positivo, mientras que la subjetividad indica cuán personal o impersonal es el texto.\n",
    "\n",
    "*Pros:\n",
    "Facilidad de uso: Muy fácil de implementar, con una sola línea de código.\n",
    "Polaridad y subjetividad: Proporciona tanto polaridad como subjetividad, lo que puede ser útil para analizar la naturaleza de las reseñas (si son más objetivas o personales).\n",
    "Ligero: Funciona rápidamente con textos cortos y es útil para tareas pequeñas.\n",
    "\n",
    "*Contras:\n",
    "Precisión limitada: TextBlob usa reglas predefinidas para analizar el texto, por lo que puede tener dificultades con el lenguaje complejo, el sarcasmo o el contexto específico de las reseñas de videojuegos.\n",
    "Poco ajustado a dominios específicos: No está entrenado específicamente para juegos o tecnología, por lo que puede malinterpretar palabras o frases que tienen significados únicos en el contexto de los videojuegos (por ejemplo, \"explosivo\" podría ser positivo en juegos de acción, pero TextBlob podría interpretarlo como negativo).\n"
   ]
  },
  {
   "cell_type": "markdown",
   "metadata": {},
   "source": [
    "####  2. VADER (SentimentIntensityAnalyzer)::"
   ]
  },
  {
   "cell_type": "markdown",
   "metadata": {},
   "source": [
    "\n",
    "VADER (Valence Aware Dictionary and sEntiment Reasoner) está diseñado específicamente para analizar sentimientos en textos cortos, como reseñas, tweets y comentarios.\n",
    "\n",
    "*Cómo funciona: Utiliza un diccionario de palabras que asigna valores de sentimientos (positivos o negativos) a palabras individuales, pero tiene en cuenta la intensidad (por ejemplo, la palabra \"¡increíble!\" sería más positiva que \"increíble\"). También considera puntuación, uso de mayúsculas, emoticones y palabras intensificadoras como \"muy\", \"extremadamente\", etc.\n",
    "Salida: Proporciona una puntuación de \"positividad\", \"negatividad\", \"neutralidad\" y un \"compound score\" (puntaje compuesto entre -1 y 1).\n",
    "\n",
    "*Pros:\n",
    "Adaptado para redes sociales y comentarios cortos: VADER es muy efectivo para textos cortos, que es común en reseñas de videojuegos. Tiene en cuenta las intensificaciones, emojis, signos de exclamación y sarcasmo, lo que mejora la precisión en este tipo de contextos.\n",
    "Más preciso en lenguaje informal: Dado que VADER está diseñado específicamente para analizar textos informales (como reseñas o tweets), es más adecuado para el tipo de lenguaje que se utiliza en las reseñas de videojuegos.\n",
    "Manejo de expresiones intensas: VADER puede detectar la intensidad de los sentimientos mejor que TextBlob gracias a su enfoque en modificadores (por ejemplo, \"muy divertido\" frente a \"divertido\").\n",
    "\n",
    "*Contras:\n",
    "No proporciona subjetividad: A diferencia de TextBlob, VADER no ofrece un análisis de la subjetividad del texto.\n",
    "No es entrenado: Aunque es más avanzado que TextBlob en algunos aspectos, tampoco es un modelo entrenado, por lo que podría no ser tan preciso como algunos métodos de machine learning para análisis de sentimientos.\n"
   ]
  },
  {
   "cell_type": "markdown",
   "metadata": {},
   "source": [
    "### DECISIÓN DE CUAL LIBRERÍA USAR PARA EL ANÁLISIS DE RESEÑAS\n"
   ]
  },
  {
   "cell_type": "markdown",
   "metadata": {},
   "source": [
    "\n",
    "VADER suele ser la mejor opción para el análisis de sentimientos en reseñas de videojuegos. Esto se debe a que tiene en cuenta el lenguaje informal, las intensificaciones, la puntuación y las expresiones sarcásticas, que son comunes en reseñas de jugadores. Además, su capacidad para detectar la intensidad del sentimiento es crucial en un dominio tan emocional como los videojuegos, donde los jugadores pueden ser muy entusiastas o frustrados.\n",
    "\n",
    "TextBlob puede ser útil si también estás interesado en medir la subjetividad del texto (es decir, si el jugador está siendo objetivo o personal), pero su precisión en el análisis de sentimientos es menor, especialmente para textos informales y coloquiales.\n",
    "\n",
    "En resumen, si estás buscando una herramienta para analizar los sentimientos en reseñas de videojuegos, VADER es probablemente la mejor opción debido a su precisión y adaptabilidad al lenguaje informal y emocional"
   ]
  }
 ],
 "metadata": {
  "kernelspec": {
   "display_name": "Python 3",
   "language": "python",
   "name": "python3"
  },
  "language_info": {
   "name": "python",
   "version": "3.12.4"
  }
 },
 "nbformat": 4,
 "nbformat_minor": 2
}
